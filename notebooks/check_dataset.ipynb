{
 "cells": [
  {
   "cell_type": "code",
   "execution_count": 4,
   "metadata": {},
   "outputs": [],
   "source": [
    "import os\n",
    "import sys\n",
    "\n",
    "module_path = os.path.abspath(os.path.join('..'))\n",
    "if module_path not in sys.path:\n",
    "    sys.path.append(module_path)\n",
    "    \n",
    "%load_ext autoreload\n",
    "%autoreload "
   ]
  },
  {
   "cell_type": "code",
   "execution_count": 2,
   "metadata": {},
   "outputs": [],
   "source": [
    "import torch\n",
    "\n",
    "from source.nn.model import NormalizedEightPointNet\n",
    "from source.datasets.colmap_dataset import ColmapDataset\n",
    "from torch.utils.data import DataLoader"
   ]
  },
  {
   "cell_type": "code",
   "execution_count": 3,
   "metadata": {},
   "outputs": [],
   "source": [
    "dataset = ColmapDataset(\"/Users/apple/Downloads/Family\", 20, 1000)\n",
    "loader = DataLoader(dataset, batch_size=1)"
   ]
  },
  {
   "cell_type": "code",
   "execution_count": 4,
   "metadata": {},
   "outputs": [],
   "source": [
    "model = NormalizedEightPointNet(3)\n",
    "\n",
    "model.load_state_dict(torch.load(\"/Users/apple/Downloads/tanksandtemples_model.pt\", map_location='cpu'))\n",
    "model.to('cpu')\n",
    "model = model.eval()"
   ]
  },
  {
   "cell_type": "code",
   "execution_count": 5,
   "metadata": {},
   "outputs": [],
   "source": [
    "from source.utils.eval_utils import compute_error, transform_F_into_image_space"
   ]
  },
  {
   "cell_type": "code",
   "execution_count": 7,
   "metadata": {},
   "outputs": [
    {
     "name": "stdout",
     "output_type": "stream",
     "text": [
      "(0.8193430656934306, 0.7059748427672956)\n"
     ]
    }
   ],
   "source": [
    "import numpy as np\n",
    "\n",
    "for kp1, kp2, F, additional_info in loader:\n",
    "    F_estimates, norm_transform1, norm_transform2, weights = model(kp1, kp2, additional_info)\n",
    "    \n",
    "    F_image = transform_F_into_image_space(norm_transform1, norm_transform2, F_estimates[-1])[0].detach()\n",
    "    \n",
    "    print(compute_error(kp1[0], kp2[0], F_image, F[0]))\n",
    "    break"
   ]
  },
  {
   "cell_type": "code",
   "execution_count": 46,
   "metadata": {},
   "outputs": [],
   "source": [
    "import numpy as np\n",
    "from source.utils.colmap_utils import quaternion_to_rotation_matrix\n",
    "\n",
    "path = \"/Users/apple/Downloads/south-building/sparse\"\n",
    "with open(os.path.join(path, 'cameras.txt'), 'r') as f:\n",
    "    raw = f.readlines()[3:]\n",
    "    \n",
    "camera_intrinsics = {}\n",
    "for camera in raw:\n",
    "    camera = camera.split(' ')\n",
    "    camera_intrinsics[int(camera[0])] = [float(elem) for elem in camera[2:]]\n",
    "\n",
    "with open(os.path.join(path, 'images.txt'), 'r') as f:\n",
    "    raw = f.readlines()[4:]\n",
    "\n",
    "raw_pose = {}\n",
    "camera = {}\n",
    "for image in raw[:: 2]:\n",
    "    image = image.split(' ')\n",
    "    \n",
    "    raw_pose[int(image[0])] = [float(elem) for elem in image[1: -2]]\n",
    "    camera[int(image[0])] = int(image[-2])\n",
    "\n",
    "intrinsics = {}\n",
    "poses = {}\n",
    "\n",
    "for key in raw_pose.keys():\n",
    "    image_intrinsics = camera_intrinsics[camera[key]]\n",
    "    K = np.zeros([3, 3])\n",
    "    K[0, 0] = image_intrinsics[2]\n",
    "    K[0, 2] = image_intrinsics[4]\n",
    "    K[1, 1] = image_intrinsics[3]\n",
    "    K[1, 2] = image_intrinsics[5]\n",
    "    K[2, 2] = 1\n",
    "    intrinsics[key] = K\n",
    "\n",
    "    image_pose = raw_pose[key]\n",
    "    qvec = image_pose[: 4]\n",
    "    qvec = qvec / np.linalg.norm(qvec)\n",
    "    w, x, y, z = qvec\n",
    "    R = np.array([\n",
    "        [\n",
    "            1 - 2 * y * y - 2 * z * z,\n",
    "            2 * x * y - 2 * z * w,\n",
    "            2 * x * z + 2 * y * w\n",
    "        ],\n",
    "        [\n",
    "            2 * x * y + 2 * z * w,\n",
    "            1 - 2 * x * x - 2 * z * z,\n",
    "            2 * y * z - 2 * x * w\n",
    "        ],\n",
    "        [\n",
    "            2 * x * z - 2 * y * w,\n",
    "            2 * y * z + 2 * x * w,\n",
    "            1 - 2 * x * x - 2 * y * y\n",
    "        ]\n",
    "    ])\n",
    "    \n",
    "    t = image_pose[4: 7]\n",
    "    \n",
    "    # World-to-Camera pose\n",
    "    current_pose = np.zeros([4, 4])\n",
    "    current_pose[: 3, : 3] = R\n",
    "    current_pose[: 3, 3] = t\n",
    "    current_pose[3, 3] = 1\n",
    "    \n",
    "    poses[key] = current_pose\n",
    "    \n"
   ]
  },
  {
   "cell_type": "code",
   "execution_count": 47,
   "metadata": {},
   "outputs": [
    {
     "name": "stdout",
     "output_type": "stream",
     "text": [
      "1 8\n",
      "[[ 2.55968e+03  0.00000e+00  1.15200e+03]\n",
      " [ 0.00000e+00  1.53600e+03 -2.04997e-02]\n",
      " [ 0.00000e+00  0.00000e+00  1.00000e+00]] [[ 2.55968e+03  0.00000e+00  1.15200e+03]\n",
      " [ 0.00000e+00  1.53600e+03 -2.04997e-02]\n",
      " [ 0.00000e+00  0.00000e+00  1.00000e+00]]\n",
      "[[ 0.496396    0.29921895  0.81489817 -0.756852  ]\n",
      " [-0.23583271  0.94989697 -0.20513086  0.980926  ]\n",
      " [-0.83544835 -0.09035351  0.54209068  3.58659   ]\n",
      " [ 0.          0.          0.          1.        ]] [[-9.98922202e-01  6.60832087e-04  4.64111778e-02 -7.80245000e-01]\n",
      " [-2.91197365e-02  7.69723476e-01 -6.37712954e-01  1.15655000e+00]\n",
      " [-3.61451942e-02 -6.38377110e-01 -7.68874626e-01  3.15961000e+00]\n",
      " [ 0.00000000e+00  0.00000000e+00  0.00000000e+00  1.00000000e+00]]\n",
      "[False False False False False False False False False False False False\n",
      " False False False False False False False False]\n"
     ]
    },
    {
     "name": "stderr",
     "output_type": "stream",
     "text": [
      "/Library/Frameworks/Python.framework/Versions/3.7/lib/python3.7/site-packages/ipykernel_launcher.py:24: DeprecationWarning: The binary mode of fromstring is deprecated, as it behaves surprisingly on unicode inputs. Use frombuffer instead\n",
      "/Library/Frameworks/Python.framework/Versions/3.7/lib/python3.7/site-packages/ipykernel_launcher.py:30: DeprecationWarning: The binary mode of fromstring is deprecated, as it behaves surprisingly on unicode inputs. Use frombuffer instead\n",
      "/Library/Frameworks/Python.framework/Versions/3.7/lib/python3.7/site-packages/ipykernel_launcher.py:35: DeprecationWarning: The binary mode of fromstring is deprecated, as it behaves surprisingly on unicode inputs. Use frombuffer instead\n",
      "/Library/Frameworks/Python.framework/Versions/3.7/lib/python3.7/site-packages/ipykernel_launcher.py:40: DeprecationWarning: The binary mode of fromstring is deprecated, as it behaves surprisingly on unicode inputs. Use frombuffer instead\n",
      "/Library/Frameworks/Python.framework/Versions/3.7/lib/python3.7/site-packages/ipykernel_launcher.py:45: DeprecationWarning: The binary mode of fromstring is deprecated, as it behaves surprisingly on unicode inputs. Use frombuffer instead\n"
     ]
    }
   ],
   "source": [
    "from source.utils.colmap_utils import pair_id_to_image_ids, compose_fundamental_matrix, compute_residual\n",
    "import sqlite3\n",
    "\n",
    "connection = sqlite3.connect(\"/Users/apple/Downloads/south-building/database.db\")\n",
    "cursor = connection.cursor()\n",
    "\n",
    "cursor.execute(\"SELECT pair_id, data FROM matches WHERE rows>=?;\", (20,))\n",
    "\n",
    "dataset = []\n",
    "\n",
    "for row in cursor:\n",
    "    img1_id, img2_id = pair_id_to_image_ids(row[0])\n",
    "    \n",
    "    print(img1_id, img2_id)\n",
    "    \n",
    "    K1, K2 = intrinsics[img1_id], intrinsics[img2_id]\n",
    "    T1, T2 = poses[img1_id], poses[img2_id]\n",
    "    \n",
    "    print(K1, K2)\n",
    "    print(T1, T2)\n",
    "\n",
    "    F = compose_fundamental_matrix(K1, T1, K2, T2)\n",
    "\n",
    "    matches = np.fromstring(row[1], dtype=np.uint32).reshape(-1, 2)\n",
    "\n",
    "    inner_cursor = connection.cursor()\n",
    "    inner_cursor.execute(\"SELECT data, cols FROM keypoints WHERE image_id=?;\", (img1_id,))\n",
    "\n",
    "    inner_row = next(inner_cursor)\n",
    "    kp1 = np.fromstring(inner_row[0], dtype=np.float32).reshape(-1, inner_row[1])\n",
    "\n",
    "    inner_cursor.execute(\"SELECT data, cols FROM keypoints WHERE image_id=?;\", (img2_id,))\n",
    "\n",
    "    inner_row = next(inner_cursor)\n",
    "    kp2 = np.fromstring(inner_row[0], dtype=np.float32).reshape(-1, inner_row[1])\n",
    "\n",
    "    inner_cursor.execute(\"SELECT data FROM descriptors WHERE image_id=?;\", (img1_id,))\n",
    "\n",
    "    inner_row = next(inner_cursor)\n",
    "    descriptor1 = np.float32(np.fromstring(inner_row[0], dtype=np.uint8).reshape(-1, 128))\n",
    "\n",
    "    inner_cursor.execute(\"SELECT data FROM descriptors WHERE image_id=?;\", (img2_id,))\n",
    "\n",
    "    inner_row = next(inner_cursor)\n",
    "    descriptor2 = np.float32(np.fromstring(inner_row[0], dtype=np.uint8).reshape(-1, 128))\n",
    "\n",
    "    kp1 = kp1[matches[:, 0]]\n",
    "    kp2 = kp2[matches[:, 1]]\n",
    "\n",
    "    angle1 = kp1[:, 3]\n",
    "    angle2 = kp2[:, 3]\n",
    "\n",
    "    descriptor1 = descriptor1[matches[:, 0]]\n",
    "    descriptor2 = descriptor2[matches[:, 1]]\n",
    "\n",
    "    desc_dist = np.sqrt(np.mean((descriptor1 - descriptor2) ** 2, 1))[..., None]\n",
    "    rel_scale = np.abs(kp1[:, 2] - kp2[:, 2])[..., None]\n",
    "    rel_orient = np.minimum(np.abs(angle1 - angle2), np.abs(angle2 - angle1))[..., None]\n",
    "\n",
    "    additional_info = np.hstack((desc_dist, rel_scale, rel_orient))\n",
    "\n",
    "    kp1 = kp1[:, :2]\n",
    "    kp2 = kp2[:, :2]\n",
    "\n",
    "    res = compute_residual(kp1, kp2, F.T)\n",
    "    residual_mask = res < 1\n",
    "    \n",
    "    print(residual_mask)\n",
    "\n",
    "    if np.sum(residual_mask) >= 20:\n",
    "        dataset.append([kp1, kp2, F.T, additional_info, residual_mask])\n",
    "        \n",
    "    break\n",
    "\n",
    "cursor.close()\n",
    "connection.close()"
   ]
  },
  {
   "cell_type": "code",
   "execution_count": 38,
   "metadata": {},
   "outputs": [
    {
     "data": {
      "text/plain": [
       "18"
      ]
     },
     "execution_count": 38,
     "metadata": {},
     "output_type": "execute_result"
    }
   ],
   "source": [
    "len(dataset)"
   ]
  },
  {
   "cell_type": "code",
   "execution_count": null,
   "metadata": {},
   "outputs": [],
   "source": []
  }
 ],
 "metadata": {
  "kernelspec": {
   "display_name": "Python 3",
   "language": "python",
   "name": "python3"
  },
  "language_info": {
   "codemirror_mode": {
    "name": "ipython",
    "version": 3
   },
   "file_extension": ".py",
   "mimetype": "text/x-python",
   "name": "python",
   "nbconvert_exporter": "python",
   "pygments_lexer": "ipython3",
   "version": "3.7.3"
  }
 },
 "nbformat": 4,
 "nbformat_minor": 1
}
