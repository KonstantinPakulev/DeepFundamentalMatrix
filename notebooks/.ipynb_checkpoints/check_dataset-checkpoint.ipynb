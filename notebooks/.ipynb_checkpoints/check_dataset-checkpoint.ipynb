{
 "cells": [
  {
   "cell_type": "code",
   "execution_count": 1,
   "metadata": {},
   "outputs": [],
   "source": [
    "import os\n",
    "import sys\n",
    "\n",
    "module_path = os.path.abspath(os.path.join('..'))\n",
    "if module_path not in sys.path:\n",
    "    sys.path.append(module_path)\n",
    "    \n",
    "sys.path.append(\"/Users/apple/PycharmProjects/DFE\")\n",
    "    \n",
    "%load_ext autoreload\n",
    "%autoreload "
   ]
  },
  {
   "cell_type": "code",
   "execution_count": 2,
   "metadata": {},
   "outputs": [],
   "source": [
    "import torch\n",
    "\n",
    "from source.nn.model import NormalizedEightPointNet\n",
    "from source.datasets.colmap_dataset import ColmapDataset\n",
    "from torch.utils.data import DataLoader"
   ]
  },
  {
   "cell_type": "code",
   "execution_count": 3,
   "metadata": {},
   "outputs": [],
   "source": [
    "dataset = ColmapDataset(\"/Users/apple/Downloads/Family\", 20, 1000)\n",
    "loader = DataLoader(dataset, batch_size=1)"
   ]
  },
  {
   "cell_type": "code",
   "execution_count": 4,
   "metadata": {},
   "outputs": [],
   "source": [
    "model = NormalizedEightPointNet(3)\n",
    "\n",
    "model.load_state_dict(torch.load(\"/Users/apple/Downloads/tanksandtemples_model.pt\", map_location='cpu'))\n",
    "model.to('cpu')\n",
    "model = model.eval()"
   ]
  },
  {
   "cell_type": "code",
   "execution_count": 5,
   "metadata": {},
   "outputs": [],
   "source": [
    "from source.utils.eval_utils import compute_error, transform_F_into_image_space"
   ]
  },
  {
   "cell_type": "code",
   "execution_count": 7,
   "metadata": {},
   "outputs": [
    {
     "name": "stdout",
     "output_type": "stream",
     "text": [
      "(0.8193430656934306, 0.7059748427672956)\n"
     ]
    }
   ],
   "source": [
    "import numpy as np\n",
    "\n",
    "for kp1, kp2, F, additional_info in loader:\n",
    "    F_estimates, norm_transform1, norm_transform2, weights = model(kp1, kp2, additional_info)\n",
    "    \n",
    "    F_image = transform_F_into_image_space(norm_transform1, norm_transform2, F_estimates[-1])[0].detach()\n",
    "    \n",
    "    print(compute_error(kp1[0], kp2[0], F_image, F[0]))\n",
    "    break"
   ]
  },
  {
   "cell_type": "code",
   "execution_count": null,
   "metadata": {},
   "outputs": [],
   "source": []
  }
 ],
 "metadata": {
  "kernelspec": {
   "display_name": "Python 3",
   "language": "python",
   "name": "python3"
  },
  "language_info": {
   "codemirror_mode": {
    "name": "ipython",
    "version": 3
   },
   "file_extension": ".py",
   "mimetype": "text/x-python",
   "name": "python",
   "nbconvert_exporter": "python",
   "pygments_lexer": "ipython3",
   "version": "3.7.3"
  }
 },
 "nbformat": 4,
 "nbformat_minor": 1
}
